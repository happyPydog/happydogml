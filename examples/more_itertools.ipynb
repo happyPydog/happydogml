{
 "cells": [
  {
   "cell_type": "code",
   "execution_count": 1,
   "metadata": {},
   "outputs": [],
   "source": [
    "import itertools\n",
    "import more_itertools"
   ]
  },
  {
   "cell_type": "markdown",
   "metadata": {},
   "source": [
    "### Windowing\n",
    "These tools yield windows of items from an iterable."
   ]
  },
  {
   "cell_type": "code",
   "execution_count": 9,
   "metadata": {},
   "outputs": [
    {
     "name": "stdout",
     "output_type": "stream",
     "text": [
      "[(1, 2, 3), (4, 5, 6), (7, 8, 9), (10, 11, 12)]\n"
     ]
    }
   ],
   "source": [
    "import more_itertools\n",
    "\n",
    "all_windows = more_itertools.windowed(\n",
    "    seq=range(1, 13),\n",
    "    n=3,\n",
    "    step=3,\n",
    ")\n",
    "print(list(all_windows))"
   ]
  },
  {
   "cell_type": "code",
   "execution_count": 10,
   "metadata": {},
   "outputs": [
    {
     "name": "stdout",
     "output_type": "stream",
     "text": [
      "[(1, 2, 3), (4, 5, 6), (7, 8, 9), (10, 11, 12), (1, 2, 3, 4, 5, 6), (7, 8, 9, 10, 11, 12), (1, 2, 3, 4, 5, 6, 7, 8, 9), (10, 11, 12, None, None, None, None, None, None), (1, 2, 3, 4, 5, 6, 7, 8, 9, 10, 11, 12)]\n"
     ]
    }
   ],
   "source": [
    "import more_itertools\n",
    "\n",
    "\n",
    "def increasing_windows(seq, start_size, step_size):\n",
    "    for size in range(start_size, len(seq) + 1, step_size):\n",
    "        yield tuple(more_itertools.windowed(seq, n=size, step=size))\n",
    "\n",
    "\n",
    "# Example usage\n",
    "all_windows = increasing_windows(range(1, 13), 3, 3)\n",
    "print([window for sublist in all_windows for window in sublist])"
   ]
  },
  {
   "cell_type": "code",
   "execution_count": 18,
   "metadata": {},
   "outputs": [
    {
     "name": "stdout",
     "output_type": "stream",
     "text": [
      "[1, 2, 3]\n",
      "[4, 5, 6]\n",
      "[7, 8, 9]\n",
      "[10, 11, 12]\n"
     ]
    },
    {
     "data": {
      "text/plain": [
       "[None, None, None, None]"
      ]
     },
     "execution_count": 18,
     "metadata": {},
     "output_type": "execute_result"
    }
   ],
   "source": [
    "children = more_itertools.divide(4, range(1, 13))\n",
    "[print(list(child)) for child in children]"
   ]
  },
  {
   "cell_type": "code",
   "execution_count": null,
   "metadata": {},
   "outputs": [],
   "source": []
  }
 ],
 "metadata": {
  "kernelspec": {
   "display_name": ".venv",
   "language": "python",
   "name": "python3"
  },
  "language_info": {
   "codemirror_mode": {
    "name": "ipython",
    "version": 3
   },
   "file_extension": ".py",
   "mimetype": "text/x-python",
   "name": "python",
   "nbconvert_exporter": "python",
   "pygments_lexer": "ipython3",
   "version": "3.12.3"
  }
 },
 "nbformat": 4,
 "nbformat_minor": 2
}
